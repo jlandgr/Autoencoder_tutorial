{
 "cells": [
  {
   "cell_type": "code",
   "execution_count": null,
   "metadata": {},
   "outputs": [],
   "source": [
    "import jax\n",
    "import jax.numpy as jnp\n",
    "import numpy as np\n",
    "\n",
    "import matplotlib.pyplot as plt\n",
    "\n",
    "import flax.linen as nn\n",
    "import optax\n",
    "from flax.training.train_state import TrainState\n",
    "\n",
    "key = jax.random.key(seed=1234)"
   ]
  },
  {
   "cell_type": "code",
   "execution_count": 41,
   "metadata": {},
   "outputs": [],
   "source": [
    "# generate batch of step functions with a random jump position\n",
    "\n",
    "def get_samples(key, batchsize, N=100):\n",
    "    x = np.linspace(0,10, N)\n",
    "    step_position=jax.random.uniform(key, (batchsize), minval=0., maxval=10.)\n",
    "    fun=np.heaviside(x[None,:]-step_position[:,None],0)\n",
    "    return fun, step_position, x"
   ]
  },
  {
   "cell_type": "code",
   "execution_count": 43,
   "metadata": {},
   "outputs": [
    {
     "data": {
      "image/png": "[encoded data removed]",
      "text/plain": [
       "<Figure size 640x480 with 1 Axes>"
      ]
     },
     "metadata": {},
     "output_type": "display_data"
    }
   ],
   "source": [
    "# plot a batch of example functions\n",
    "y = get_samples(jax.random.key(seed=1234), 10)\n",
    "plt.plot(y[-1], y[0].T)\n",
    "plt.show()"
   ]
  },
  {
   "cell_type": "code",
   "execution_count": 51,
   "metadata": {},
   "outputs": [],
   "source": [
    "# define the Autoencoder\n",
    "\n",
    "# Your task: Define an Autoencoder using Flax. The Autoencoder gets as input a batch of functions of shape (batch_size, num_steps). \n",
    "# This input is compressed by by the Encoder to a bottleneck of size 1.\n",
    "# The Decoder decodes the bottleneck again and returns an array of the shape (batch_size, num_steps)\n",
    "\n",
    "class Encoder(nn.Module):\n",
    "    # TODO: write an Encoder\n",
    "    \n",
    "class Decoder(nn.Module):\n",
    "    # TODO: write a Decoder\n",
    "\n",
    "class Autoencoder(nn.Module):\n",
    "    # TODO: Write the Autoencoder\n",
    "\n",
    "num_steps = 100\n",
    "autoencoder = Autoencoder(num_steps)    "
   ]
  },
  {
   "cell_type": "code",
   "execution_count": null,
   "metadata": {},
   "outputs": [],
   "source": [
    "key, subkey = jax.random.split(key)\n",
    "dummy_input, _, x = get_samples(subkey, 1, num_steps)\n",
    "key, subkey = jax.random.split(key)\n",
    "params = autoencoder.init(subkey, dummy_input)[\"params\"]  # initialize the parameters\n",
    "\n",
    "# apply the untrained autoencoder to a sample function\n",
    "predicted = autoencoder.apply({'params': params}, dummy_input)\n",
    "plt.plot(x, dummy_input[0], label='true')\n",
    "plt.plot(x, predicted[0], label='predicted by untrained autoencoder')\n",
    "plt.legend()"
   ]
  },
  {
   "cell_type": "code",
   "execution_count": null,
   "metadata": {},
   "outputs": [],
   "source": [
    "key, subkey = jax.random.split(key)\n",
    "table = autoencoder.tabulate(subkey, dummy_input, column_kwargs=dict(overflow=\"fold\"))\n",
    "print(table)"
   ]
  },
  {
   "cell_type": "code",
   "execution_count": 6,
   "metadata": {},
   "outputs": [],
   "source": [
    "# create a generator, that generates new samples with every call\n",
    "\n",
    "def make_batch_generator(key):\n",
    "    while True:\n",
    "        key, subkey = jax.random.split(key)\n",
    "        data_batch = get_samples(subkey, batchsize=32, N=num_steps)\n",
    "        yield data_batch\n",
    "\n",
    "key = jax.random.key(seed=1234)\n",
    "batch_generator = make_batch_generator(key)"
   ]
  },
  {
   "cell_type": "code",
   "execution_count": 44,
   "metadata": {},
   "outputs": [],
   "source": [
    "# initialize the Adam optimizer\n",
    "optimizer = optax.adam(learning_rate=0.001)\n",
    "state = TrainState.create(apply_fn=autoencoder.apply, params=params, tx=optimizer)\n",
    "losses = []"
   ]
  },
  {
   "cell_type": "code",
   "execution_count": 45,
   "metadata": {},
   "outputs": [],
   "source": [
    "# Define the training function\n",
    "\n",
    "@jax.jit\n",
    "def train_on_batch(state, inputs, targets):\n",
    "\n",
    "    def loss_fn(params):\n",
    "        y_pred = state.apply_fn({'params': params}, inputs)\n",
    "        sq_dev = (y_pred - targets)**2\n",
    "        mean_sq_dev = sq_dev.mean()\n",
    "        return mean_sq_dev\n",
    "\n",
    "    val_and_grad_fn = jax.value_and_grad(loss_fn)\n",
    "    loss, grads = val_and_grad_fn(state.params)\n",
    "    state = state.apply_gradients(grads=grads)\n",
    "    return loss, state"
   ]
  },
  {
   "cell_type": "code",
   "execution_count": null,
   "metadata": {},
   "outputs": [],
   "source": [
    "for i in range(10000):\n",
    "\n",
    "    functions, step_positions, x = next(batch_generator)\n",
    "    y_true = functions\n",
    "\n",
    "    loss, state = train_on_batch(state, functions, functions)\n",
    "\n",
    "    losses.append(loss)\n",
    "\n",
    "    if (i) % 500 == 0:\n",
    "        print(f\"Batch: {i + 1}\\tloss = {loss:.3e}\")"
   ]
  },
  {
   "cell_type": "code",
   "execution_count": null,
   "metadata": {},
   "outputs": [],
   "source": [
    "plt.plot(losses)"
   ]
  },
  {
   "cell_type": "code",
   "execution_count": null,
   "metadata": {},
   "outputs": [],
   "source": [
    "functions, step_positions, x = next(batch_generator)\n",
    "predicted_functions = autoencoder.apply({'params': state.params}, functions)\n",
    "\n",
    "functions_to_plot = 5\n",
    "fig, axes = plt.subplots(ncols=functions_to_plot, figsize=(3*functions_to_plot, 2))\n",
    "for idx in range(functions_to_plot):\n",
    "    axes[idx].plot(x, functions[idx])\n",
    "    axes[idx].plot(x, predicted_functions[idx])\n",
    "fig.tight_layout()"
   ]
  },
  {
   "cell_type": "code",
   "execution_count": 49,
   "metadata": {},
   "outputs": [],
   "source": [
    "# TODO: calculate the bottleneck values for the trained autoencoder\n",
    "# TODO: Understand the meaning of the bottleneck values"
   ]
  }
 ],
 "metadata": {
  "kernelspec": {
   "display_name": "jax_tutorial",
   "language": "python",
   "name": "python3"
  },
  "language_info": {
   "codemirror_mode": {
    "name": "ipython",
    "version": 3
   },
   "file_extension": ".py",
   "mimetype": "text/x-python",
   "name": "python",
   "nbconvert_exporter": "python",
   "pygments_lexer": "ipython3",
   "version": "3.12.11"
  }
 },
 "nbformat": 4,
 "nbformat_minor": 2
}
