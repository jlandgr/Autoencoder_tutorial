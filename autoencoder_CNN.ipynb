{
  "cells": [
    {
      "cell_type": "markdown",
      "id": "93b55261-c68d-427f-98fa-13c0e12beeac",
      "metadata": {
        "id": "93b55261-c68d-427f-98fa-13c0e12beeac"
      },
      "source": [
        "# CNN autoencoder: training and visualization"
      ]
    },
    {
      "cell_type": "markdown",
      "id": "14a6f6a5-3408-4114-ae1e-9dfe7ea490b0",
      "metadata": {
        "id": "14a6f6a5-3408-4114-ae1e-9dfe7ea490b0"
      },
      "source": [
        "## 0. Imports"
      ]
    },
    {
      "cell_type": "code",
      "execution_count": 1,
      "id": "eda4f0e6-079d-47a6-a438-0f0d02a442b1",
      "metadata": {
        "id": "eda4f0e6-079d-47a6-a438-0f0d02a442b1"
      },
      "outputs": [],
      "source": [
        "import jax\n",
        "import jax.numpy as jnp\n",
        "\n",
        "import matplotlib.pyplot as plt"
      ]
    },
    {
      "cell_type": "markdown",
      "id": "b392741d-a7c5-432d-a9b3-815d5c8b8e34",
      "metadata": {
        "id": "b392741d-a7c5-432d-a9b3-815d5c8b8e34"
      },
      "source": [
        "## 1. What are our images\n",
        "\n",
        "Image 64 x 64 shows a square covering coordinates (-1, 1) x (-1, 1)  \n",
        "with a circle of radius \"r\" centered at (xc, yc)"
      ]
    },
    {
      "cell_type": "markdown",
      "id": "a205add4-5646-4076-8f8b-ab3c5c11ca28",
      "metadata": {
        "id": "a205add4-5646-4076-8f8b-ab3c5c11ca28"
      },
      "source": [
        "### 1.a) Pixels (fixed once and forever):"
      ]
    },
    {
      "cell_type": "code",
      "execution_count": 2,
      "id": "896d5595-eda4-4cb6-9d51-0387def409fb",
      "metadata": {
        "id": "896d5595-eda4-4cb6-9d51-0387def409fb"
      },
      "outputs": [],
      "source": [
        "pix = 64\n",
        "\n",
        "x_edges = jnp.linspace(-1, 1, pix + 1)\n",
        "x_middles = (x_edges[1:] + x_edges[:-1]) / 2\n",
        "\n",
        "y_middles = x_middles\n",
        "\n",
        "xx, yy = jnp.meshgrid(x_middles, y_middles)"
      ]
    },
    {
      "cell_type": "markdown",
      "id": "3870d968-7ca1-48a9-a275-aad20da01f5f",
      "metadata": {
        "id": "3870d968-7ca1-48a9-a275-aad20da01f5f"
      },
      "source": [
        "### 1.b) Drawing circles:"
      ]
    },
    {
      "cell_type": "code",
      "execution_count": 3,
      "id": "b43ba058-9fd3-4c5e-96cf-d69fc0741f82",
      "metadata": {
        "id": "b43ba058-9fd3-4c5e-96cf-d69fc0741f82"
      },
      "outputs": [],
      "source": [
        "def draw_circle(r, xc, yc):\n",
        "    where_circle = (xx - xc)**2 + (yy - yc)**2 <= r**2\n",
        "    cc = where_circle.astype(float)\n",
        "    return cc"
      ]
    },
    {
      "cell_type": "code",
      "execution_count": 4,
      "id": "ae69f8c1-07b9-4eb9-bf8d-ad46f3b1b4c8",
      "metadata": {
        "id": "ae69f8c1-07b9-4eb9-bf8d-ad46f3b1b4c8"
      },
      "outputs": [],
      "source": [
        "cc = draw_circle(0.7, 0.2, 0.5)"
      ]
    },
    {
      "cell_type": "code",
      "execution_count": 5,
      "id": "e76cca0a-6d14-4348-a624-933647678b6c",
      "metadata": {
        "colab": {
          "base_uri": "https://localhost:8080/",
          "height": 311
        },
        "id": "e76cca0a-6d14-4348-a624-933647678b6c",
        "outputId": "c56b8cdf-7f71-4bf3-cadf-b0b0b8553478"
      },
      "outputs": [
        {
          "data": {
            "image/png": "[encoded data removed]",
            "text/plain": [
              "<Figure size 300x300 with 1 Axes>"
            ]
          },
          "metadata": {},
          "output_type": "display_data"
        }
      ],
      "source": [
        "fig, ax = plt.subplots(figsize=(3, 3))\n",
        "ax.imshow(cc);\n",
        "plt.gca().invert_yaxis();\n",
        "ax.set_xlabel(\"Pixel index\");\n",
        "ax.set_ylabel(\"Pixel index\");"
      ]
    },
    {
      "cell_type": "markdown",
      "id": "1b693737-b85c-4136-9179-02aefb7709c2",
      "metadata": {
        "id": "1b693737-b85c-4136-9179-02aefb7709c2"
      },
      "source": [
        "## 2. Data generation"
      ]
    },
    {
      "cell_type": "markdown",
      "id": "b88395f2-a60a-40f4-881e-83889385a822",
      "metadata": {
        "id": "b88395f2-a60a-40f4-881e-83889385a822"
      },
      "source": [
        "1 batch = 32 images  \n",
        "with circles of random radius (between 0 and 1)  \n",
        "and with canters placed randomly in the square"
      ]
    },
    {
      "cell_type": "markdown",
      "id": "f0f96510-be63-4e23-8ae5-7c72451fea78",
      "metadata": {
        "id": "f0f96510-be63-4e23-8ae5-7c72451fea78"
      },
      "source": [
        "### 2.a) Batch creation:"
      ]
    },
    {
      "cell_type": "code",
      "execution_count": 6,
      "id": "4dac5247-c658-44af-ad3b-027295f6695e",
      "metadata": {
        "id": "4dac5247-c658-44af-ad3b-027295f6695e"
      },
      "outputs": [],
      "source": [
        "draw_circles = jax.vmap(draw_circle)"
      ]
    },
    {
      "cell_type": "code",
      "execution_count": 7,
      "id": "f7935f9c-2324-4c46-ba18-12e56d10e4eb",
      "metadata": {
        "id": "f7935f9c-2324-4c46-ba18-12e56d10e4eb"
      },
      "outputs": [],
      "source": [
        "def create_data_batch(key, batch_size=32):\n",
        "\n",
        "    key, subkey = jax.random.split(key)\n",
        "    xc = jax.random.uniform(subkey, shape=(batch_size,), minval=-1.0, maxval=1.0)\n",
        "\n",
        "    key, subkey = jax.random.split(key)\n",
        "    yc = jax.random.uniform(subkey, shape=(batch_size,), minval=-1.0, maxval=1.0)\n",
        "\n",
        "    key, subkey = jax.random.split(key)\n",
        "    r = jax.random.uniform(subkey, shape=(batch_size,), minval=0.0, maxval=1.0)\n",
        "\n",
        "    return draw_circles(r, xc, yc)"
      ]
    },
    {
      "cell_type": "code",
      "execution_count": 8,
      "id": "6f192b18-c0e9-46d2-a50b-52ef46f15161",
      "metadata": {
        "id": "6f192b18-c0e9-46d2-a50b-52ef46f15161"
      },
      "outputs": [],
      "source": [
        "key = jax.random.key(seed=1234)\n",
        "key, subkey = jax.random.split(key)\n",
        "\n",
        "data_batch = create_data_batch(subkey)"
      ]
    },
    {
      "cell_type": "markdown",
      "id": "4cc29788-8a33-4584-8d96-78ef60809aa3",
      "metadata": {
        "id": "4cc29788-8a33-4584-8d96-78ef60809aa3"
      },
      "source": [
        "### 2.b) Batch visualization"
      ]
    },
    {
      "cell_type": "code",
      "execution_count": 9,
      "id": "9a4c963f-bdaf-4573-b8db-ee99f8c2b010",
      "metadata": {
        "id": "9a4c963f-bdaf-4573-b8db-ee99f8c2b010"
      },
      "outputs": [],
      "source": [
        "def plot_images(data_batch, label, how_many=5):\n",
        "    print(f\">>> {label}:\")\n",
        "\n",
        "    fig, axes = plt.subplots(1, how_many, sharey=True, subplot_kw=dict(box_aspect=1))\n",
        "\n",
        "    for ax, cc in zip(axes, data_batch):\n",
        "        im = ax.imshow(cc);\n",
        "        ax.set_xticks([]);\n",
        "        ax.set_yticks([]);\n",
        "\n",
        "    fig.colorbar(im, ax=axes.ravel().tolist(), fraction=0.01, pad=0.04);\n",
        "\n",
        "    plt.gca().invert_yaxis();"
      ]
    },
    {
      "cell_type": "code",
      "execution_count": 10,
      "id": "c0892108-e16e-4a69-9891-cf7afde27675",
      "metadata": {
        "colab": {
          "base_uri": "https://localhost:8080/",
          "height": 167
        },
        "id": "c0892108-e16e-4a69-9891-cf7afde27675",
        "outputId": "8a193344-b0a1-40bf-965a-21d3f535f7e9"
      },
      "outputs": [
        {
          "name": "stdout",
          "output_type": "stream",
          "text": [
            ">>> Batch example:\n"
          ]
        },
        {
          "data": {
            "image/png": "[encoded data removed]",
            "text/plain": [
              "<Figure size 640x480 with 6 Axes>"
            ]
          },
          "metadata": {},
          "output_type": "display_data"
        }
      ],
      "source": [
        "plot_images(data_batch, \"Batch example\")"
      ]
    },
    {
      "cell_type": "markdown",
      "id": "272472c1-5bfa-42ac-a4f0-cadc7aca25a1",
      "metadata": {
        "id": "272472c1-5bfa-42ac-a4f0-cadc7aca25a1"
      },
      "source": [
        "### 2.c) Pack into a generator:"
      ]
    },
    {
      "cell_type": "code",
      "execution_count": 11,
      "id": "4c50a77a-904b-46cb-9215-ec47e0b1acc3",
      "metadata": {
        "id": "4c50a77a-904b-46cb-9215-ec47e0b1acc3"
      },
      "outputs": [],
      "source": [
        "def make_batch_generator(key):\n",
        "    while True:\n",
        "        key, subkey = jax.random.split(key)\n",
        "        data_batch = create_data_batch(subkey)\n",
        "        data_batch = data_batch[..., jnp.newaxis]\n",
        "        yield data_batch"
      ]
    },
    {
      "cell_type": "code",
      "execution_count": 12,
      "id": "ff91eb36-7a19-498d-bf77-bebe0281ae55",
      "metadata": {
        "id": "ff91eb36-7a19-498d-bf77-bebe0281ae55"
      },
      "outputs": [],
      "source": [
        "key = jax.random.key(seed=1234)\n",
        "batch_generator = make_batch_generator(key)"
      ]
    },
    {
      "cell_type": "code",
      "execution_count": 13,
      "id": "700dc697-2415-46f1-b9d2-39d23ec04e17",
      "metadata": {
        "colab": {
          "base_uri": "https://localhost:8080/",
          "height": 167
        },
        "id": "700dc697-2415-46f1-b9d2-39d23ec04e17",
        "outputId": "9773c5c5-5a1c-4835-abca-cb031cc27321"
      },
      "outputs": [
        {
          "name": "stdout",
          "output_type": "stream",
          "text": [
            ">>> Batch example:\n"
          ]
        },
        {
          "data": {
            "image/png": "[encoded data removed]",
            "text/plain": [
              "<Figure size 640x480 with 6 Axes>"
            ]
          },
          "metadata": {},
          "output_type": "display_data"
        }
      ],
      "source": [
        "data_batch = next(batch_generator)\n",
        "\n",
        "plot_images(data_batch, \"Batch example\")"
      ]
    },
    {
      "cell_type": "markdown",
      "id": "4d296906-7f95-4463-896d-d007c73b4cd7",
      "metadata": {
        "id": "4d296906-7f95-4463-896d-d007c73b4cd7"
      },
      "source": [
        "## 3. Conv. autoencoder"
      ]
    },
    {
      "cell_type": "markdown",
      "id": "4b957775-e106-4974-b2ba-3b2d7c8244ad",
      "metadata": {
        "id": "4b957775-e106-4974-b2ba-3b2d7c8244ad"
      },
      "source": [
        "### 3.a) Setup the autoencoder with flax"
      ]
    },
    {
      "cell_type": "code",
      "execution_count": 14,
      "id": "292dd835",
      "metadata": {},
      "outputs": [],
      "source": [
        "import flax.linen as nn\n",
        "import optax\n",
        "from flax.training.train_state import TrainState"
      ]
    },
    {
      "cell_type": "code",
      "execution_count": 15,
      "id": "4ffa2bff-b0a7-4032-b16a-510188864554",
      "metadata": {
        "id": "4ffa2bff-b0a7-4032-b16a-510188864554"
      },
      "outputs": [],
      "source": [
        "def up_sample_2d(x, factors):\n",
        "    new_shape = list(x.shape)\n",
        "\n",
        "    new_shape[-3] *= factors[0]\n",
        "    new_shape[-2] *= factors[1]\n",
        "\n",
        "    x = jax.image.resize(x, shape=new_shape, method='bilinear')\n",
        "\n",
        "    return x"
      ]
    },
    {
      "cell_type": "code",
      "execution_count": 16,
      "id": "301488a6",
      "metadata": {},
      "outputs": [],
      "source": [
        "class Encoder(nn.Module):\n",
        "    @nn.compact\n",
        "    def __call__(self, x):\n",
        "        x = nn.Conv(4, (5, 5), padding='same')(x)\n",
        "        x = nn.sigmoid(x)\n",
        "        x = nn.pooling.avg_pool(x, (4, 4), strides=(4, 4))\n",
        "\n",
        "        x = nn.Conv(4, (5, 5), padding='same')(x)\n",
        "        x = nn.sigmoid(x)\n",
        "        x = nn.pooling.avg_pool(x, (2, 2), strides=(2, 2))\n",
        "\n",
        "        x = nn.Conv(1, (3, 3), padding='same')(x)\n",
        "        x = nn.sigmoid(x)\n",
        "\n",
        "        return x\n",
        "    \n",
        "class Decoder(nn.Module):\n",
        "    @nn.compact\n",
        "    def __call__(self, x):\n",
        "        x = up_sample_2d(x, (2, 2))\n",
        "        x = nn.Conv(4, (5, 5), padding='same')(x)\n",
        "        x = nn.sigmoid(x)\n",
        "\n",
        "        x = up_sample_2d(x, (4, 4))\n",
        "        x = nn.Conv(4, (5, 5), padding='same')(x)\n",
        "        x = nn.sigmoid(x)\n",
        "\n",
        "        x = nn.Conv(1, (3, 3), padding='same')(x)\n",
        "\n",
        "        return x\n",
        "\n",
        "class ConvAutoenc(nn.Module):\n",
        "    @nn.compact\n",
        "    def __call__(self, x):\n",
        "        x = Encoder()(x)\n",
        "        x = Decoder()(x)\n",
        "        return x\n",
        "\n",
        "conv_autoenc = ConvAutoenc()\n",
        "encoder = Encoder()"
      ]
    },
    {
      "cell_type": "markdown",
      "id": "554b3e22",
      "metadata": {},
      "source": [
        "### 3b Initialize the parameters of the Autoencoder"
      ]
    },
    {
      "cell_type": "code",
      "execution_count": 17,
      "id": "4d0f79ec-c287-427b-a0f6-b9e3c92bdaf7",
      "metadata": {
        "id": "4d0f79ec-c287-427b-a0f6-b9e3c92bdaf7"
      },
      "outputs": [],
      "source": [
        "dummy_input = jnp.ones(shape=(pix, pix, 1))\n",
        "\n",
        "key, subkey = jax.random.split(key)\n",
        "params = conv_autoenc.init(subkey, dummy_input)[\"params\"]"
      ]
    },
    {
      "cell_type": "code",
      "execution_count": 18,
      "id": "0dde776d-abcb-4a6c-b141-ac0fb0ab876b",
      "metadata": {
        "colab": {
          "base_uri": "https://localhost:8080/"
        },
        "id": "0dde776d-abcb-4a6c-b141-ac0fb0ab876b",
        "outputId": "a42ab3d5-12f4-467f-ca2e-040d93fc9cc5"
      },
      "outputs": [
        {
          "name": "stdout",
          "output_type": "stream",
          "text": [
            "\n",
            "\u001b[3m                              ConvAutoenc Summary                               \u001b[0m\n",
            "┏━━━━━━━━━━━━━━━┳━━━━━━━━━━━━━┳━━━━━━━━━━━━━━━┳━━━━━━━━━━━━━━━━┳━━━━━━━━━━━━━━━┓\n",
            "┃\u001b[1m \u001b[0m\u001b[1mpath         \u001b[0m\u001b[1m \u001b[0m┃\u001b[1m \u001b[0m\u001b[1mmodule     \u001b[0m\u001b[1m \u001b[0m┃\u001b[1m \u001b[0m\u001b[1minputs       \u001b[0m\u001b[1m \u001b[0m┃\u001b[1m \u001b[0m\u001b[1moutputs       \u001b[0m\u001b[1m \u001b[0m┃\u001b[1m \u001b[0m\u001b[1mparams       \u001b[0m\u001b[1m \u001b[0m┃\n",
            "┡━━━━━━━━━━━━━━━╇━━━━━━━━━━━━━╇━━━━━━━━━━━━━━━╇━━━━━━━━━━━━━━━━╇━━━━━━━━━━━━━━━┩\n",
            "│               │ ConvAutoenc │ \u001b[2mfloat32\u001b[0m[64,64 │ \u001b[2mfloat32\u001b[0m[64,64, │               │\n",
            "│               │             │ ,1]           │ 1]             │               │\n",
            "├───────────────┼─────────────┼───────────────┼────────────────┼───────────────┤\n",
            "│ Encoder_0     │ Encoder     │ \u001b[2mfloat32\u001b[0m[64,64 │ \u001b[2mfloat32\u001b[0m[8,8,1] │               │\n",
            "│               │             │ ,1]           │                │               │\n",
            "├───────────────┼─────────────┼───────────────┼────────────────┼───────────────┤\n",
            "│ Encoder_0/Con │ Conv        │ \u001b[2mfloat32\u001b[0m[64,64 │ \u001b[2mfloat32\u001b[0m[64,64, │ bias:         │\n",
            "│ v_0           │             │ ,1]           │ 4]             │ \u001b[2mfloat32\u001b[0m[4]    │\n",
            "│               │             │               │                │ kernel:       │\n",
            "│               │             │               │                │ \u001b[2mfloat32\u001b[0m[5,5,1 │\n",
            "│               │             │               │                │ ,4]           │\n",
            "│               │             │               │                │               │\n",
            "│               │             │               │                │ \u001b[1m104 \u001b[0m\u001b[1;2m(416 B)\u001b[0m   │\n",
            "├───────────────┼─────────────┼───────────────┼────────────────┼───────────────┤\n",
            "│ Encoder_0/Con │ Conv        │ \u001b[2mfloat32\u001b[0m[16,16 │ \u001b[2mfloat32\u001b[0m[16,16, │ bias:         │\n",
            "│ v_1           │             │ ,4]           │ 4]             │ \u001b[2mfloat32\u001b[0m[4]    │\n",
            "│               │             │               │                │ kernel:       │\n",
            "│               │             │               │                │ \u001b[2mfloat32\u001b[0m[5,5,4 │\n",
            "│               │             │               │                │ ,4]           │\n",
            "│               │             │               │                │               │\n",
            "│               │             │               │                │ \u001b[1m404 \u001b[0m\u001b[1;2m(1.6 KB)\u001b[0m  │\n",
            "├───────────────┼─────────────┼───────────────┼────────────────┼───────────────┤\n",
            "│ Encoder_0/Con │ Conv        │ \u001b[2mfloat32\u001b[0m[8,8,4 │ \u001b[2mfloat32\u001b[0m[8,8,1] │ bias:         │\n",
            "│ v_2           │             │ ]             │                │ \u001b[2mfloat32\u001b[0m[1]    │\n",
            "│               │             │               │                │ kernel:       │\n",
            "│               │             │               │                │ \u001b[2mfloat32\u001b[0m[3,3,4 │\n",
            "│               │             │               │                │ ,1]           │\n",
            "│               │             │               │                │               │\n",
            "│               │             │               │                │ \u001b[1m37 \u001b[0m\u001b[1;2m(148 B)\u001b[0m    │\n",
            "├───────────────┼─────────────┼───────────────┼────────────────┼───────────────┤\n",
            "│ Decoder_0     │ Decoder     │ \u001b[2mfloat32\u001b[0m[8,8,1 │ \u001b[2mfloat32\u001b[0m[64,64, │               │\n",
            "│               │             │ ]             │ 1]             │               │\n",
            "├───────────────┼─────────────┼───────────────┼────────────────┼───────────────┤\n",
            "│ Decoder_0/Con │ Conv        │ \u001b[2mfloat32\u001b[0m[16,16 │ \u001b[2mfloat32\u001b[0m[16,16, │ bias:         │\n",
            "│ v_0           │             │ ,1]           │ 4]             │ \u001b[2mfloat32\u001b[0m[4]    │\n",
            "│               │             │               │                │ kernel:       │\n",
            "│               │             │               │                │ \u001b[2mfloat32\u001b[0m[5,5,1 │\n",
            "│               │             │               │                │ ,4]           │\n",
            "│               │             │               │                │               │\n",
            "│               │             │               │                │ \u001b[1m104 \u001b[0m\u001b[1;2m(416 B)\u001b[0m   │\n",
            "├───────────────┼─────────────┼───────────────┼────────────────┼───────────────┤\n",
            "│ Decoder_0/Con │ Conv        │ \u001b[2mfloat32\u001b[0m[64,64 │ \u001b[2mfloat32\u001b[0m[64,64, │ bias:         │\n",
            "│ v_1           │             │ ,4]           │ 4]             │ \u001b[2mfloat32\u001b[0m[4]    │\n",
            "│               │             │               │                │ kernel:       │\n",
            "│               │             │               │                │ \u001b[2mfloat32\u001b[0m[5,5,4 │\n",
            "│               │             │               │                │ ,4]           │\n",
            "│               │             │               │                │               │\n",
            "│               │             │               │                │ \u001b[1m404 \u001b[0m\u001b[1;2m(1.6 KB)\u001b[0m  │\n",
            "├───────────────┼─────────────┼───────────────┼────────────────┼───────────────┤\n",
            "│ Decoder_0/Con │ Conv        │ \u001b[2mfloat32\u001b[0m[64,64 │ \u001b[2mfloat32\u001b[0m[64,64, │ bias:         │\n",
            "│ v_2           │             │ ,4]           │ 1]             │ \u001b[2mfloat32\u001b[0m[1]    │\n",
            "│               │             │               │                │ kernel:       │\n",
            "│               │             │               │                │ \u001b[2mfloat32\u001b[0m[3,3,4 │\n",
            "│               │             │               │                │ ,1]           │\n",
            "│               │             │               │                │               │\n",
            "│               │             │               │                │ \u001b[1m37 \u001b[0m\u001b[1;2m(148 B)\u001b[0m    │\n",
            "├───────────────┼─────────────┼───────────────┼────────────────┼───────────────┤\n",
            "│\u001b[1m \u001b[0m\u001b[1m             \u001b[0m\u001b[1m \u001b[0m│\u001b[1m \u001b[0m\u001b[1m           \u001b[0m\u001b[1m \u001b[0m│\u001b[1m \u001b[0m\u001b[1m             \u001b[0m\u001b[1m \u001b[0m│\u001b[1m \u001b[0m\u001b[1m         Total\u001b[0m\u001b[1m \u001b[0m│\u001b[1m \u001b[0m\u001b[1m1,090 \u001b[0m\u001b[1;2m(4.4 \u001b[0m\u001b[1m  \u001b[0m\u001b[1m \u001b[0m│\n",
            "│\u001b[1m               \u001b[0m│\u001b[1m             \u001b[0m│\u001b[1m               \u001b[0m│\u001b[1m                \u001b[0m│\u001b[1m \u001b[0m\u001b[1;2mKB)\u001b[0m\u001b[1m          \u001b[0m\u001b[1m \u001b[0m│\n",
            "└───────────────┴─────────────┴───────────────┴────────────────┴───────────────┘\n",
            "\u001b[1m                                                                                \u001b[0m\n",
            "\u001b[1m                        Total Parameters: 1,090 \u001b[0m\u001b[1;2m(4.4 KB)\u001b[0m\u001b[1m                        \u001b[0m\n",
            "\n",
            "\n"
          ]
        }
      ],
      "source": [
        "table = conv_autoenc.tabulate(jax.random.key(0), dummy_input, column_kwargs=dict(overflow=\"fold\"))\n",
        "print(table)"
      ]
    },
    {
      "cell_type": "markdown",
      "id": "27b878b2",
      "metadata": {},
      "source": [
        "### 3c Initialize the optimizer and the training state, and the define the training function"
      ]
    },
    {
      "cell_type": "code",
      "execution_count": 19,
      "id": "e666c94b-5084-4394-91a7-26848898c65f",
      "metadata": {
        "id": "e666c94b-5084-4394-91a7-26848898c65f"
      },
      "outputs": [],
      "source": [
        "optimizer = optax.adam(learning_rate=0.005)"
      ]
    },
    {
      "cell_type": "code",
      "execution_count": 20,
      "id": "ed96fa3f-94fb-4425-9697-3f8edc87294f",
      "metadata": {
        "id": "ed96fa3f-94fb-4425-9697-3f8edc87294f"
      },
      "outputs": [],
      "source": [
        "state = TrainState.create(apply_fn=conv_autoenc.apply, params=params, tx=optimizer)"
      ]
    },
    {
      "cell_type": "code",
      "execution_count": 21,
      "id": "a4b8cb53",
      "metadata": {},
      "outputs": [],
      "source": [
        "@jax.jit\n",
        "def train_on_batch(state, X):\n",
        "\n",
        "    def loss_fn(params):\n",
        "        # evaluate autoencoder for input X\n",
        "        y_pred = state.apply_fn({'params': params}, X) \n",
        "        # calculate mean squared deviation between output and X\n",
        "        sq_dev = (y_pred - X)**2  \n",
        "        mean_sq_dev = sq_dev.mean()\n",
        "        return mean_sq_dev\n",
        "\n",
        "    val_and_grad_fn = jax.value_and_grad(loss_fn)\n",
        "    loss, grads = val_and_grad_fn(state.params)\n",
        "    state = state.apply_gradients(grads=grads)\n",
        "    return loss, state"
      ]
    },
    {
      "cell_type": "markdown",
      "id": "3b4e7757-f5a8-4d48-9817-cc98a821d25c",
      "metadata": {
        "id": "3b4e7757-f5a8-4d48-9817-cc98a821d25c"
      },
      "source": [
        "### 3.d) Training"
      ]
    },
    {
      "cell_type": "code",
      "execution_count": 22,
      "id": "b5da143d-eadd-4d72-9b60-911409d8d17c",
      "metadata": {
        "id": "b5da143d-eadd-4d72-9b60-911409d8d17c"
      },
      "outputs": [],
      "source": [
        "losses = []"
      ]
    },
    {
      "cell_type": "code",
      "execution_count": 23,
      "id": "d47f867d-464c-4363-8d3f-951e648a8da5",
      "metadata": {
        "colab": {
          "base_uri": "https://localhost:8080/"
        },
        "id": "d47f867d-464c-4363-8d3f-951e648a8da5",
        "outputId": "be7e09fe-f05c-4eb4-b86b-8ed0ef164862"
      },
      "outputs": [
        {
          "name": "stdout",
          "output_type": "stream",
          "text": [
            "Batch: 100\tloss = 2.677e-02\n",
            "Batch: 200\tloss = 1.883e-02\n",
            "Batch: 300\tloss = 1.157e-02\n",
            "Batch: 400\tloss = 1.102e-02\n",
            "Batch: 500\tloss = 9.089e-03\n",
            "Batch: 600\tloss = 8.417e-03\n",
            "Batch: 700\tloss = 6.541e-03\n",
            "Batch: 800\tloss = 7.731e-03\n",
            "Batch: 900\tloss = 5.775e-03\n",
            "Batch: 1000\tloss = 5.605e-03\n",
            "Batch: 1100\tloss = 5.470e-03\n",
            "Batch: 1200\tloss = 5.731e-03\n",
            "Batch: 1300\tloss = 4.667e-03\n",
            "Batch: 1400\tloss = 4.056e-03\n",
            "Batch: 1500\tloss = 4.574e-03\n",
            "Batch: 1600\tloss = 4.099e-03\n",
            "Batch: 1700\tloss = 4.470e-03\n",
            "Batch: 1800\tloss = 4.275e-03\n",
            "Batch: 1900\tloss = 3.462e-03\n",
            "Batch: 2000\tloss = 4.135e-03\n"
          ]
        }
      ],
      "source": [
        "for i in range(2000):\n",
        "\n",
        "    X = next(batch_generator)\n",
        "    y_true = X\n",
        "\n",
        "    loss, state = train_on_batch(state, X)\n",
        "\n",
        "    losses.append(loss)\n",
        "\n",
        "    if (i + 1) % 100 == 0:\n",
        "        print(f\"Batch: {i + 1}\\tloss = {loss:.3e}\")"
      ]
    },
    {
      "cell_type": "code",
      "execution_count": 24,
      "id": "b7c9d548-7d6f-4c8f-b1ae-0a72ec417212",
      "metadata": {
        "colab": {
          "base_uri": "https://localhost:8080/",
          "height": 311
        },
        "id": "b7c9d548-7d6f-4c8f-b1ae-0a72ec417212",
        "outputId": "46a5f337-9d1a-488e-e9f3-fbfef39277d6"
      },
      "outputs": [
        {
          "data": {
            "image/png": "[encoded data removed]",
            "text/plain": [
              "<Figure size 500x300 with 1 Axes>"
            ]
          },
          "metadata": {},
          "output_type": "display_data"
        }
      ],
      "source": [
        "fig, ax = plt.subplots(figsize=(5, 3))\n",
        "\n",
        "ax.plot(losses);\n",
        "ax.set_yscale(\"log\");\n",
        "\n",
        "ax.set_xlabel(\"Batch\");\n",
        "ax.set_ylabel(\"Loss\");"
      ]
    },
    {
      "cell_type": "markdown",
      "id": "2384aed8-1316-4884-977a-6802a60e3e5a",
      "metadata": {
        "id": "2384aed8-1316-4884-977a-6802a60e3e5a"
      },
      "source": [
        "### 3.e) Visualization of reproduced images"
      ]
    },
    {
      "cell_type": "code",
      "execution_count": 25,
      "id": "604ad66f",
      "metadata": {},
      "outputs": [],
      "source": [
        "def predict_on_batch(state, X):\n",
        "    return state.apply_fn({'params': state.params}, X)"
      ]
    },
    {
      "cell_type": "code",
      "execution_count": 26,
      "id": "b1c75faa-21a9-4cb2-804c-497b1f3996c4",
      "metadata": {
        "id": "b1c75faa-21a9-4cb2-804c-497b1f3996c4"
      },
      "outputs": [],
      "source": [
        "X = next(batch_generator)\n",
        "y_true = X\n",
        "\n",
        "y_predicted = predict_on_batch(state, X)"
      ]
    },
    {
      "cell_type": "code",
      "execution_count": 27,
      "id": "f5b71b1f-e4e9-47ea-b782-0eb84c843d9e",
      "metadata": {
        "colab": {
          "base_uri": "https://localhost:8080/",
          "height": 167
        },
        "id": "f5b71b1f-e4e9-47ea-b782-0eb84c843d9e",
        "outputId": "bc292def-3d48-42d1-ffb7-a5169b3debcc"
      },
      "outputs": [
        {
          "name": "stdout",
          "output_type": "stream",
          "text": [
            ">>> True images:\n"
          ]
        },
        {
          "data": {
            "image/png": "[encoded data removed]",
            "text/plain": [
              "<Figure size 640x480 with 6 Axes>"
            ]
          },
          "metadata": {},
          "output_type": "display_data"
        }
      ],
      "source": [
        "plot_images(y_true, \"True images\")"
      ]
    },
    {
      "cell_type": "code",
      "execution_count": 28,
      "id": "7aa8d7de-e099-4ada-a57a-ccb9346436f4",
      "metadata": {
        "colab": {
          "base_uri": "https://localhost:8080/",
          "height": 155
        },
        "id": "7aa8d7de-e099-4ada-a57a-ccb9346436f4",
        "outputId": "83d96e02-03f6-453a-b684-da21a566a07a"
      },
      "outputs": [
        {
          "name": "stdout",
          "output_type": "stream",
          "text": [
            ">>> Predicted images (trained):\n"
          ]
        },
        {
          "data": {
            "image/png": "[encoded data removed]",
            "text/plain": [
              "<Figure size 640x480 with 6 Axes>"
            ]
          },
          "metadata": {},
          "output_type": "display_data"
        }
      ],
      "source": [
        "plot_images(y_predicted, \"Predicted images (trained)\")"
      ]
    },
    {
      "cell_type": "markdown",
      "id": "e8f55db0-eb08-4e21-994c-220547930853",
      "metadata": {
        "id": "e8f55db0-eb08-4e21-994c-220547930853"
      },
      "source": [
        "### 5.d) Visualization of encoded images"
      ]
    },
    {
      "cell_type": "code",
      "execution_count": 29,
      "id": "34e285c2-99c2-40a7-a847-35fd81867439",
      "metadata": {
        "id": "34e285c2-99c2-40a7-a847-35fd81867439"
      },
      "outputs": [],
      "source": [
        "params_enc = state.params['Encoder_0']"
      ]
    },
    {
      "cell_type": "code",
      "execution_count": 30,
      "id": "3a647173-fe6d-4adf-b0e9-8699db7dd3e3",
      "metadata": {
        "id": "3a647173-fe6d-4adf-b0e9-8699db7dd3e3"
      },
      "outputs": [],
      "source": [
        "encoded_img = encoder.apply({'params': params_enc}, X)"
      ]
    },
    {
      "cell_type": "code",
      "execution_count": 32,
      "id": "6760ee4b-30df-42ef-bde7-cc17f1c9c200",
      "metadata": {
        "colab": {
          "base_uri": "https://localhost:8080/",
          "height": 153
        },
        "id": "6760ee4b-30df-42ef-bde7-cc17f1c9c200",
        "outputId": "347735af-600d-4602-db15-d5e42845dfe1"
      },
      "outputs": [
        {
          "name": "stdout",
          "output_type": "stream",
          "text": [
            ">>> Encoded images:\n"
          ]
        },
        {
          "data": {
            "image/png": "[encoded data removed]",
            "text/plain": [
              "<Figure size 640x480 with 6 Axes>"
            ]
          },
          "metadata": {},
          "output_type": "display_data"
        }
      ],
      "source": [
        "plot_images(encoded_img, \"Encoded images\")"
      ]
    },
    {
      "cell_type": "code",
      "execution_count": null,
      "id": "f6a5a7af",
      "metadata": {},
      "outputs": [],
      "source": []
    }
  ],
  "metadata": {
    "colab": {
      "provenance": []
    },
    "kernelspec": {
      "display_name": "Python 3 (ipykernel)",
      "language": "python",
      "name": "python3"
    },
    "language_info": {
      "codemirror_mode": {
        "name": "ipython",
        "version": 3
      },
      "file_extension": ".py",
      "mimetype": "text/x-python",
      "name": "python",
      "nbconvert_exporter": "python",
      "pygments_lexer": "ipython3",
      "version": "3.12.11"
    }
  },
  "nbformat": 4,
  "nbformat_minor": 5
}
